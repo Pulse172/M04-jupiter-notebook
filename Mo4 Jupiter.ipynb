{
 "cells": [
  {
   "cell_type": "markdown",
   "id": "9ff3f959",
   "metadata": {},
   "source": [
    "11.1 #I made the zoo file separately"
   ]
  },
  {
   "cell_type": "code",
   "execution_count": 16,
   "id": "d20a12de",
   "metadata": {},
   "outputs": [
    {
     "name": "stdout",
     "output_type": "stream",
     "text": [
      "Open 9-5 daily\n"
     ]
    }
   ],
   "source": [
    "import zoo\n",
    "zoo.hours()"
   ]
  },
  {
   "cell_type": "markdown",
   "id": "5c452d51",
   "metadata": {},
   "source": [
    "11.2"
   ]
  },
  {
   "cell_type": "code",
   "execution_count": 17,
   "id": "90f56053",
   "metadata": {},
   "outputs": [
    {
     "name": "stdout",
     "output_type": "stream",
     "text": [
      "Open 9-5 daily\n"
     ]
    }
   ],
   "source": [
    "import zoo as menagerie\n",
    "menagerie.hours()"
   ]
  },
  {
   "cell_type": "markdown",
   "id": "7a12cc0f",
   "metadata": {},
   "source": [
    "16.1(file created) (I know its not part of the assignment, but it looks like 16.8 requires some previous steps so ill just do them all)"
   ]
  },
  {
   "cell_type": "markdown",
   "id": "620d4064",
   "metadata": {},
   "source": [
    "16.2 (I know its not part of the assignment, but it looks like 16.8 requires some previous steps so ill just do them all)"
   ]
  },
  {
   "cell_type": "code",
   "execution_count": 18,
   "id": "2467271c",
   "metadata": {},
   "outputs": [
    {
     "name": "stdout",
     "output_type": "stream",
     "text": [
      "[{'author': 'J R R Tolkien', 'book': 'The Hobbit'}, {'author': 'Lynne Truss', 'book': 'Eats, Shoots & Leaves'}]\n"
     ]
    }
   ],
   "source": [
    "import csv\n",
    "with open ('books.csv', 'rt') as fin:\n",
    "    cin = csv.DictReader(fin)\n",
    "    bookz = [row for row in cin]\n",
    "    \n",
    "print(bookz)"
   ]
  },
  {
   "cell_type": "markdown",
   "id": "3023db9f",
   "metadata": {},
   "source": [
    "16.3 (file created)"
   ]
  },
  {
   "cell_type": "markdown",
   "id": "e25828ec",
   "metadata": {},
   "source": [
    "16.4 "
   ]
  },
  {
   "cell_type": "code",
   "execution_count": 19,
   "id": "f4b85d21",
   "metadata": {},
   "outputs": [
    {
     "ename": "OperationalError",
     "evalue": "database is locked",
     "output_type": "error",
     "traceback": [
      "\u001b[1;31m---------------------------------------------------------------------------\u001b[0m",
      "\u001b[1;31mOperationalError\u001b[0m                          Traceback (most recent call last)",
      "Cell \u001b[1;32mIn[19], line 4\u001b[0m\n\u001b[0;32m      2\u001b[0m conn \u001b[38;5;241m=\u001b[39m sqlite3\u001b[38;5;241m.\u001b[39mconnect(\u001b[38;5;124m'\u001b[39m\u001b[38;5;124mbooks.db\u001b[39m\u001b[38;5;124m'\u001b[39m)\n\u001b[0;32m      3\u001b[0m curs \u001b[38;5;241m=\u001b[39m conn\u001b[38;5;241m.\u001b[39mcursor()\n\u001b[1;32m----> 4\u001b[0m curs\u001b[38;5;241m.\u001b[39mexecute(\u001b[38;5;124m'''\u001b[39m\u001b[38;5;124mDROP TABLE IF EXISTS books\u001b[39m\u001b[38;5;124m'''\u001b[39m)\n\u001b[0;32m      5\u001b[0m curs\u001b[38;5;241m.\u001b[39mexecute(\u001b[38;5;124m'''\u001b[39m\u001b[38;5;124mCREATE TABLE books\u001b[39m\n\u001b[0;32m      6\u001b[0m \u001b[38;5;124m    (title VARCHAR(20) PRIMARY KEY,\u001b[39m\n\u001b[0;32m      7\u001b[0m \u001b[38;5;124m     author VARCHAR(20),\u001b[39m\n\u001b[0;32m      8\u001b[0m \u001b[38;5;124m     year INT)\u001b[39m\u001b[38;5;124m'''\u001b[39m)\n",
      "\u001b[1;31mOperationalError\u001b[0m: database is locked"
     ]
    }
   ],
   "source": [
    "import sqlite3\n",
    "conn = sqlite3.connect('books.db')\n",
    "curs = conn.cursor()\n",
    "curs.execute('''DROP TABLE IF EXISTS books''')\n",
    "curs.execute('''CREATE TABLE books\n",
    "    (title VARCHAR(20) PRIMARY KEY,\n",
    "     author VARCHAR(20),\n",
    "     year INT)''')\n"
   ]
  },
  {
   "cell_type": "code",
   "execution_count": null,
   "id": "bf4faf60",
   "metadata": {},
   "outputs": [],
   "source": [
    "#with open('books2.csv', 'r') as file:\n",
    "    #reader = csv.DictReader(file)\n",
    "    #data = [(row['title'], row['author'], row['year']) for row in reader]\n",
    "    #curs.execute('INSERT INTO books (title, author, year) VALUES (?, ?, ?)'\n"
   ]
  },
  {
   "cell_type": "markdown",
   "id": "db67dc7b",
   "metadata": {},
   "source": [
    "16.8 Im sorry I cant understand this last step at all, spent way to much mant hours attempting"
   ]
  },
  {
   "cell_type": "code",
   "execution_count": null,
   "id": "30a66eb1",
   "metadata": {},
   "outputs": [],
   "source": [
    "import sqlalchemy as sa\n",
    "conn = sa.create_engine('sqlite://books.db')\n"
   ]
  }
 ],
 "metadata": {
  "kernelspec": {
   "display_name": "Python 3 (ipykernel)",
   "language": "python",
   "name": "python3"
  },
  "language_info": {
   "codemirror_mode": {
    "name": "ipython",
    "version": 3
   },
   "file_extension": ".py",
   "mimetype": "text/x-python",
   "name": "python",
   "nbconvert_exporter": "python",
   "pygments_lexer": "ipython3",
   "version": "3.11.4"
  }
 },
 "nbformat": 4,
 "nbformat_minor": 5
}
